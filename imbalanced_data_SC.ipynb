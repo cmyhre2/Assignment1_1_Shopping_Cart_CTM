{
  "cells": [
    {
      "cell_type": "markdown",
      "metadata": {
        "id": "view-in-github",
        "colab_type": "text"
      },
      "source": [
        "<a href=\"https://colab.research.google.com/github/cmyhre2/Assignment1_1_Shopping_Cart_CTM/blob/main/imbalanced_data_SC.ipynb\" target=\"_parent\"><img src=\"https://colab.research.google.com/assets/colab-badge.svg\" alt=\"Open In Colab\"/></a>"
      ]
    },
    {
      "cell_type": "markdown",
      "metadata": {
        "id": "Q68N0Ffh78Mg"
      },
      "source": [
        "# Imbalanced data\n",
        "\n",
        "Imbalanced data refers to a situation in classification problems where the classes are not represented equally in the dataset.\n",
        "\n",
        "One class (the majority class) has significantly more instances than one or more other classes (the minority class or classes).\n",
        "\n",
        "![image.png](attachment:921d77e1-b4c2-4fe2-a76b-a074ab33172c.png)\n",
        "\n",
        "Imbalanced datasets are common in various real-world scenarios, such as fraud detection, medical diagnosis, anomaly detection, and text classification.\n",
        "\n",
        "### Problems with Imbalanced Datasets:\n",
        "\n",
        "* **Biased Model Performance**: Models trained on imbalanced data tend to be biased towards the majority class, as they tend to focus more on the majority class during training, resulting in poor generalization to the minority class.\n",
        "\n",
        "* **Misleading Evaluation Metrics**: Traditional evaluation metrics like **accuracy** can be misleading on imbalanced datasets. A model may achieve high accuracy by simply predicting the majority class most of the time, while completely ignoring the minority class."
      ]
    },
    {
      "cell_type": "markdown",
      "metadata": {
        "id": "UPHTppq778Mj"
      },
      "source": [
        "### SKlearn toy datasets\n",
        "https://scikit-learn.org/stable/datasets/toy_dataset.html"
      ]
    },
    {
      "cell_type": "code",
      "execution_count": 3,
      "metadata": {
        "id": "jeqp9Yr878Mk"
      },
      "outputs": [],
      "source": [
        "from sklearn.datasets import load_iris\n",
        "import pandas as pd\n"
      ]
    },
    {
      "cell_type": "code",
      "source": [
        "# load iris data\n",
        "iris = load_iris()\n",
        "X=iris.data # feature\n",
        "y=iris.target # target"
      ],
      "metadata": {
        "id": "N7hpZrok-Yot"
      },
      "execution_count": 4,
      "outputs": []
    },
    {
      "cell_type": "code",
      "source": [
        "type(y)"
      ],
      "metadata": {
        "colab": {
          "base_uri": "https://localhost:8080/"
        },
        "id": "AHMjuSbX-8p9",
        "outputId": "0c68b0dc-7742-4c3b-9068-0a50ddd3e427"
      },
      "execution_count": 5,
      "outputs": [
        {
          "output_type": "execute_result",
          "data": {
            "text/plain": [
              "numpy.ndarray"
            ]
          },
          "metadata": {},
          "execution_count": 5
        }
      ]
    },
    {
      "cell_type": "code",
      "source": [
        "# check the class distribution\n",
        "print(pd.Series(y).value_counts())"
      ],
      "metadata": {
        "colab": {
          "base_uri": "https://localhost:8080/"
        },
        "id": "DZQw6KRF-2Gi",
        "outputId": "db02d3da-bd5d-4a45-ad9d-7712fb48fd60"
      },
      "execution_count": 7,
      "outputs": [
        {
          "output_type": "stream",
          "name": "stdout",
          "text": [
            "0    50\n",
            "1    50\n",
            "2    50\n",
            "Name: count, dtype: int64\n"
          ]
        }
      ]
    },
    {
      "cell_type": "markdown",
      "metadata": {
        "id": "SDYj1pDW78Ml"
      },
      "source": [
        "## Solutions to Imbalanced Data Problems:\n",
        "\n",
        "### **1. Resampling Techniques**:"
      ]
    },
    {
      "cell_type": "markdown",
      "metadata": {
        "id": "f9v2WQpH78Mm"
      },
      "source": [
        "## 1.1 Under-Sampling\n",
        "\n",
        "Reduce the number of instances in the majority class by randomly removing instances.\n",
        "\n",
        "![image.png](attachment:15d98869-f4ff-49a5-b926-7a517c3fe1a6.png)"
      ]
    },
    {
      "cell_type": "code",
      "source": [
        "from google.colab import drive\n",
        "drive.mount('/content/drive')"
      ],
      "metadata": {
        "colab": {
          "base_uri": "https://localhost:8080/"
        },
        "id": "ONJuF3Yw8dix",
        "outputId": "d5df4bcc-394c-4c19-e619-78805a3a9e1c"
      },
      "execution_count": 8,
      "outputs": [
        {
          "output_type": "stream",
          "name": "stdout",
          "text": [
            "Mounted at /content/drive\n"
          ]
        }
      ]
    },
    {
      "cell_type": "code",
      "execution_count": 11,
      "metadata": {
        "colab": {
          "base_uri": "https://localhost:8080/"
        },
        "id": "mk6nTsFk78Mn",
        "outputId": "154e11d8-5661-4a06-ce55-51974211ac22"
      },
      "outputs": [
        {
          "output_type": "stream",
          "name": "stdout",
          "text": [
            "1    357\n",
            "0    212\n",
            "Name: count, dtype: int64\n"
          ]
        }
      ],
      "source": [
        "from sklearn.datasets import load_breast_cancer\n",
        "from imblearn.under_sampling import RandomUnderSampler\n",
        "import pandas as pd\n",
        "breast_cancer=load_breast_cancer()\n",
        "X=breast_cancer.data\n",
        "y=breast_cancer.target\n",
        "print(pd.Series(y).value_counts())"
      ]
    },
    {
      "cell_type": "code",
      "source": [
        "rus=RandomUnderSampler(random_state=42)\n",
        "X_res,y_res=rus.fit_resample(X,y)\n",
        "print(pd.Series(y_res).value_counts())"
      ],
      "metadata": {
        "colab": {
          "base_uri": "https://localhost:8080/"
        },
        "id": "TD_bkAljAJ_f",
        "outputId": "0875592b-db66-49a5-931f-dad5c3a4d82b"
      },
      "execution_count": 12,
      "outputs": [
        {
          "output_type": "stream",
          "name": "stdout",
          "text": [
            "0    212\n",
            "1    212\n",
            "Name: count, dtype: int64\n"
          ]
        }
      ]
    },
    {
      "cell_type": "code",
      "execution_count": null,
      "metadata": {
        "id": "FCFEIF3Q78Mn"
      },
      "outputs": [],
      "source": []
    },
    {
      "cell_type": "markdown",
      "metadata": {
        "id": "_j_FdQNk78Mo"
      },
      "source": [
        "**Advantages**:\n",
        "* Reduces computation time and memory usage.\n",
        "* Helps balance class distribution, potentially improving model performance.\n",
        "\n",
        "**Disadvantages**:\n",
        "* May discard potentially useful information from majority class.\n",
        "* Risk of underfitting if important samples are removed."
      ]
    },
    {
      "cell_type": "markdown",
      "metadata": {
        "id": "Ov8ZAacC78Mp"
      },
      "source": [
        "## 1.2. Over-Sampling\n",
        "\n",
        "Increase the number of instances in the minority class by duplicating existing instances or generating synthetic samples.\n",
        "\n",
        "![image.png](attachment:71bafa7f-a85b-429a-be7b-224936589c7f.png)"
      ]
    },
    {
      "cell_type": "code",
      "execution_count": 13,
      "metadata": {
        "colab": {
          "base_uri": "https://localhost:8080/"
        },
        "id": "W0LJEWco78Mq",
        "outputId": "9955334e-466b-4691-bb0d-bec840561bbb"
      },
      "outputs": [
        {
          "output_type": "stream",
          "name": "stdout",
          "text": [
            "0    357\n",
            "1    357\n",
            "Name: count, dtype: int64\n"
          ]
        }
      ],
      "source": [
        "from imblearn.over_sampling import RandomOverSampler\n",
        "ros=RandomOverSampler(random_state=42)\n",
        "X_resampled1,y_resampled1=ros.fit_resample(X,y)\n",
        "print(pd.Series(y_resampled1).value_counts())"
      ]
    },
    {
      "cell_type": "code",
      "execution_count": null,
      "metadata": {
        "id": "wwOgHRV178Mq"
      },
      "outputs": [],
      "source": []
    },
    {
      "cell_type": "markdown",
      "metadata": {
        "id": "IhjjqorS78Mr"
      },
      "source": [
        "**Advantages**:\n",
        "* Increases representation of minority class, preventing bias towards majority class.\n",
        "* Can improve model performance.\n",
        "\n",
        "**Disadvantages**:\n",
        "* May lead to overfitting if synthetic samples are not well-generated.\n",
        "* Can increase computation time and memory usage."
      ]
    },
    {
      "cell_type": "markdown",
      "metadata": {
        "id": "MJYtk3gg78Ms"
      },
      "source": [
        "## 1.3. Synthetic Over-Sampling Technique: SMOTE\n",
        "\n",
        "Generate synthetic samples for the minority class by interpolating between existing instances."
      ]
    },
    {
      "cell_type": "markdown",
      "metadata": {
        "id": "NQXh8X6P78Ms"
      },
      "source": [
        "![image.png](attachment:f6229229-4626-41ed-a92e-498d4f93ea25.png)"
      ]
    },
    {
      "cell_type": "markdown",
      "metadata": {
        "id": "ARg2F_xa78Ms"
      },
      "source": [
        "### Step-by-Step Process of SMOTE:\n",
        "#### Identify Minority Class Samples:\n",
        "\n",
        "SMOTE first identifies the minority class samples from the dataset. Let's assume we have a binary classification problem where the majority class has far more instances than the minority class.\n",
        "Find k Nearest Neighbors:\n",
        "\n",
        "- For each minority class sample, SMOTE finds its k-nearest neighbors in the feature space using techniques like Euclidean distance. Typically, k is set to 5 by default, though it can be adjusted.\n",
        "- These neighboring points are other minority class examples that are \"close\" to the original point in the feature space.\n",
        "Generate Synthetic Samples:\n",
        "\n",
        "SMOTE then selects one of the k-nearest neighbors at random and creates a new synthetic sample.\n",
        "![image.png](attachment:a8416356-eabf-4c2a-ae82-3b96bab4c87c.png)"
      ]
    },
    {
      "cell_type": "code",
      "execution_count": 14,
      "metadata": {
        "colab": {
          "base_uri": "https://localhost:8080/",
          "height": 167
        },
        "id": "WZa7tDdL78Ms",
        "outputId": "30cbf422-9344-4155-e8ce-f73e6a0c4ece"
      },
      "outputs": [
        {
          "output_type": "execute_result",
          "data": {
            "text/plain": [
              "0    357\n",
              "1    357\n",
              "Name: count, dtype: int64"
            ],
            "text/html": [
              "<div>\n",
              "<style scoped>\n",
              "    .dataframe tbody tr th:only-of-type {\n",
              "        vertical-align: middle;\n",
              "    }\n",
              "\n",
              "    .dataframe tbody tr th {\n",
              "        vertical-align: top;\n",
              "    }\n",
              "\n",
              "    .dataframe thead th {\n",
              "        text-align: right;\n",
              "    }\n",
              "</style>\n",
              "<table border=\"1\" class=\"dataframe\">\n",
              "  <thead>\n",
              "    <tr style=\"text-align: right;\">\n",
              "      <th></th>\n",
              "      <th>count</th>\n",
              "    </tr>\n",
              "  </thead>\n",
              "  <tbody>\n",
              "    <tr>\n",
              "      <th>0</th>\n",
              "      <td>357</td>\n",
              "    </tr>\n",
              "    <tr>\n",
              "      <th>1</th>\n",
              "      <td>357</td>\n",
              "    </tr>\n",
              "  </tbody>\n",
              "</table>\n",
              "</div><br><label><b>dtype:</b> int64</label>"
            ]
          },
          "metadata": {},
          "execution_count": 14
        }
      ],
      "source": [
        "from imblearn.over_sampling import SMOTE\n",
        "smote=SMOTE(random_state=42)\n",
        "X_resampled2,y_resampled2=smote.fit_resample(X,y)\n",
        "pd.Series(y_resampled2).value_counts()"
      ]
    },
    {
      "cell_type": "code",
      "source": [],
      "metadata": {
        "id": "lpXpVavxB197"
      },
      "execution_count": null,
      "outputs": []
    },
    {
      "cell_type": "markdown",
      "metadata": {
        "id": "OtShPJ4878Mt"
      },
      "source": [
        "**Advantages**:\n",
        "* Generates synthetic samples, preserving minority class distribution.\n",
        "* Addresses imbalanced data without discarding information.\n",
        "\n",
        "**Disadvantages**:\n",
        "* Can introduce noise if synthetic samples are poorly generated.\n",
        "* May not work well with high-dimensional data.\n",
        "* Sensitive towards outliers."
      ]
    },
    {
      "cell_type": "markdown",
      "metadata": {
        "id": "Zu6gF5Fr78Mt"
      },
      "source": [
        "**Model Selection:**\n",
        "\n",
        "Choose models that are robust to class imbalance, such as linear regression, logistic regression, decision trees, random forests, support vector machines with appropriate kernels, or anomaly detection algorithms."
      ]
    },
    {
      "cell_type": "markdown",
      "metadata": {
        "id": "eVsN-Zp578Mt"
      },
      "source": [
        "## 2. Data-Level Techniques:\n",
        "\n",
        "* **Collect More Data:** Gather additional data for the minority class to balance the dataset.\n",
        "* **Domain Knowledge:** Incorporate domain knowledge to better understand the importance of different classes and guide the selection of appropriate techniques for handling imbalance.\n"
      ]
    },
    {
      "cell_type": "code",
      "execution_count": null,
      "metadata": {
        "id": "tUW-6e6778Mu"
      },
      "outputs": [],
      "source": []
    }
  ],
  "metadata": {
    "kaggle": {
      "accelerator": "none",
      "dataSources": [],
      "dockerImageVersionId": 30698,
      "isGpuEnabled": false,
      "isInternetEnabled": false,
      "language": "python",
      "sourceType": "notebook"
    },
    "kernelspec": {
      "display_name": "Python 3 (ipykernel)",
      "language": "python",
      "name": "python3"
    },
    "language_info": {
      "codemirror_mode": {
        "name": "ipython",
        "version": 3
      },
      "file_extension": ".py",
      "mimetype": "text/x-python",
      "name": "python",
      "nbconvert_exporter": "python",
      "pygments_lexer": "ipython3",
      "version": "3.12.4"
    },
    "colab": {
      "provenance": [],
      "include_colab_link": true
    }
  },
  "nbformat": 4,
  "nbformat_minor": 0
}